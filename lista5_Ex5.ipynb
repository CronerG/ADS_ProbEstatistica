{
  "nbformat": 4,
  "nbformat_minor": 0,
  "metadata": {
    "colab": {
      "name": "lista5_Ex5.ipynb",
      "provenance": [],
      "collapsed_sections": [],
      "authorship_tag": "ABX9TyNUoCG3kYXb0teymzmkWf4l",
      "include_colab_link": true
    },
    "kernelspec": {
      "name": "python3",
      "display_name": "Python 3"
    }
  },
  "cells": [
    {
      "cell_type": "markdown",
      "metadata": {
        "id": "view-in-github",
        "colab_type": "text"
      },
      "source": [
        "<a href=\"https://colab.research.google.com/github/CronerG/ADS_ProbEstatistica/blob/main/lista5_Ex5.ipynb\" target=\"_parent\"><img src=\"https://colab.research.google.com/assets/colab-badge.svg\" alt=\"Open In Colab\"/></a>"
      ]
    },
    {
      "cell_type": "code",
      "metadata": {
        "colab": {
          "base_uri": "https://localhost:8080/"
        },
        "id": "FO0qX3BqTlrp",
        "outputId": "6c654f16-3686-4994-a54d-26524036dee4"
      },
      "source": [
        "# Disciplina: Probabilidade e Estatística\n",
        "# Aluno: Guilherme Alexandre Silva Abreu\n",
        "# Lista 5\n",
        "\n",
        "# Exercício 5\n",
        "\n",
        "# Formatação é feita por meio da função round() onde nescessário.\n",
        "\n",
        "# Importando as funções nescessárias:\n",
        "import statistics\n",
        "from scipy.stats.mstats import gmean\n",
        "\n",
        "# Uma lista vazia é criada para futuramente receber as notas.\n",
        "listaNotas = []\n",
        "\n",
        "# Primeira inserção de notas pelo usuário, limitado a números inteiros.\n",
        "nota = int(input('Insira a nota do aluno (entre 0 e 10): '))\n",
        "\n",
        "while True: # Loop para manter o usuario inserindo notas até -999 ser detectado.\n",
        "  if (nota >= 0) and (nota <= 10): # If para notas válidas\n",
        "    listaNotas.append(nota) # Grava a nota atual na lista.\n",
        "    # Apenas caso a nota inserida seja válida, o usuário terá de inserir outra.\n",
        "    nota = int(input('Insira a nota do aluno (entre 0 e 10): '))\n",
        "    print(listaNotas) # Print utilizado para confirmar os números na lista.\n",
        "  \n",
        "  # Elif que leva a quebra do loop while com a inserção de -999.\n",
        "  elif nota == -999:\n",
        "    print('Inserção de notas terminada, calculos a seguir.')\n",
        "    break; # Fim do loop while original, leva aos resultados.\n",
        "\n",
        "  # Else utilizado para direcionar todos os inputs incorretos. \n",
        "  else:\n",
        "    while True: # irá manter o usuario neste loop até inserir uma nota correta.\n",
        "      nota = int(input('Insira uma nota correta para o aluno (entre 0 e 10): '))\n",
        "      if (nota >= 0) and (nota <= 10):\n",
        "        break; # Quebra o loop de nota incorreta\n",
        "    # Caso o usuario insira uma nota incorreta, é levado para o loop while até\n",
        "    # uma nota correta ser inserida, que é então encaminhada ao if do input \n",
        "    # correto.\n",
        "\n",
        "# Calculo do coeficiente de variância:\n",
        "mediaA = round(statistics.mean(listaNotas), 2)\n",
        "desvPadrao = round(statistics.stdev(listaNotas), 2)\n",
        "coeVari = (desvPadrao/mediaA) * 100\n",
        "\n",
        "# Uso de print para criar uma linha vazia entre a inserção de notas e os \n",
        "# resultados:\n",
        "print('')\n",
        "\n",
        "# A)\n",
        "print('Média aritmética: ' + str(round(statistics.mean(listaNotas), 2)))\n",
        "\n",
        "# B)\n",
        "print('Média harmônica: ' + str(round(statistics.harmonic_mean(listaNotas), 2)))\n",
        "\n",
        "# C)\n",
        "print('Média geométrica: ' + str(round(gmean(listaNotas), 2)))\n",
        "\n",
        "# D)\n",
        "# Uso de try e except para moda, caso tenha uma moda, ela será calculada e \n",
        "# escrita na tela, caso não, um aviso é escrito.\n",
        "try:\n",
        "  moda = statistics.mode(listaNotas)\n",
        "  print('Moda: ' + str(moda))\n",
        "except:\n",
        "  print('Nenhuma nota repetida, sem moda encontrada.')\n",
        "\n",
        "# E)\n",
        "print('Variância: ' + str(round(statistics.variance(listaNotas), 2)))\n",
        "\n",
        "# F)\n",
        "print('Desvio padrão: ' + str(round(statistics.stdev(listaNotas), 2)))\n",
        "\n",
        "# G)\n",
        "print('Coeficiente de variância: ' + str(round(coeVari, 2)) + '%')\n",
        "\n",
        "# Noto que tanto a média harmônica quanto a geométrica tiveram uma tendência\n",
        "# nos primeiros testes a resultar em 0, não consegui identificar o porque\n",
        "# mas suspeito ser pelo grupo de dados utilizado."
      ],
      "execution_count": 38,
      "outputs": [
        {
          "output_type": "stream",
          "text": [
            "Insira a nota do aluno (entre 0 e 10): 10\n",
            "Insira a nota do aluno (entre 0 e 10): 5\n",
            "[10]\n",
            "Insira a nota do aluno (entre 0 e 10): 2\n",
            "[10, 5]\n",
            "Insira a nota do aluno (entre 0 e 10): -1\n",
            "[10, 5, 2]\n",
            "Insira uma nota correta para o aluno (entre 0 e 10): 4\n",
            "Insira a nota do aluno (entre 0 e 10): 3\n",
            "[10, 5, 2, 4]\n",
            "Insira a nota do aluno (entre 0 e 10): 7\n",
            "[10, 5, 2, 4, 3]\n",
            "Insira a nota do aluno (entre 0 e 10): 6\n",
            "[10, 5, 2, 4, 3, 7]\n",
            "Insira a nota do aluno (entre 0 e 10): -999\n",
            "[10, 5, 2, 4, 3, 7, 6]\n",
            "Inserção de notas terminada, calculos a seguir.\n",
            "\n",
            "Média aritmética: 5.29\n",
            "Média harmônica: 4.14\n",
            "Média geométrica: 4.7\n",
            "Nenhuma nota repetida, sem moda encontrada.\n",
            "Variância: 7.24\n",
            "Desvio padrão: 2.69\n",
            "Coeficiente de variância: 50.85%\n"
          ],
          "name": "stdout"
        }
      ]
    }
  ]
}