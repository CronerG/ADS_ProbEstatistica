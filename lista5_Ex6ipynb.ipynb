{
  "nbformat": 4,
  "nbformat_minor": 0,
  "metadata": {
    "colab": {
      "name": "lista5_Ex6ipynb",
      "provenance": [],
      "collapsed_sections": [],
      "authorship_tag": "ABX9TyNP0SyvFXkHGGTESkD6h4kt",
      "include_colab_link": true
    },
    "kernelspec": {
      "name": "python3",
      "display_name": "Python 3"
    }
  },
  "cells": [
    {
      "cell_type": "markdown",
      "metadata": {
        "id": "view-in-github",
        "colab_type": "text"
      },
      "source": [
        "<a href=\"https://colab.research.google.com/github/CronerG/ADS_ProbEstatistica/blob/main/lista5_Ex6ipynb.ipynb\" target=\"_parent\"><img src=\"https://colab.research.google.com/assets/colab-badge.svg\" alt=\"Open In Colab\"/></a>"
      ]
    },
    {
      "cell_type": "code",
      "metadata": {
        "colab": {
          "base_uri": "https://localhost:8080/"
        },
        "id": "EkyPt1G3z71S",
        "outputId": "2319efd0-bb7e-4c5e-ab9e-0784700d326e"
      },
      "source": [
        "# Disciplina: Probabilidade e Estatística\n",
        "# Aluno: Guilherme Alexandre Silva Abreu\n",
        "# Lista 5\n",
        "\n",
        "# Exercício 6\n",
        "\n",
        "# Formatação por meio da função round() utilizada onde necessário.\n",
        "\n",
        "# Contador utilizado para manter o loop For:\n",
        "counter = 0\n",
        "\n",
        "listaNotas = []\n",
        "\n",
        "# Loop for utilizado para manter o usuário inserindo notas até 3 corretas serem\n",
        "# aceitas:\n",
        "for counter in range(0,2+1):\n",
        "  nota = int(input('Insira a nota do aluno (entre 0 e 10): '))\n",
        "  if (nota >= 0) and (nota <= 10): # If para notas válidas\n",
        "    listaNotas.append(nota) # Grava a nota atual na lista.\n",
        "    print(listaNotas) # Print utilizado para confirmar os números na lista.\n",
        "    # Aumenta o contador, chegando em 3 notas aceitas na lista, chegando em 3\n",
        "    # ele encerra o loop.\n",
        "    counter += 1 \n",
        "  # Elif utilizado para direcionar todos os inputs incorretos. \n",
        "  elif(nota < 0 ) or (nota > 10):\n",
        "    while True: # irá manter o usuario neste loop até inserir uma nota correta.\n",
        "      nota = int(input('Insira uma nota correta para o aluno (entre 0 e 10): '))\n",
        "      if (nota >= 0) and (nota <= 10):\n",
        "        listaNotas.append(nota)\n",
        "        break; # Quebra o loop de nota incorreta\n",
        "\n",
        "# Gravando as notas em variaveis diferentes para calcular a média ponderada:\n",
        "nota1 = listaNotas[0]\n",
        "nota2 = listaNotas[1]\n",
        "nota3 = listaNotas[2]\n",
        "\n",
        "# Calculo final da média ponderada:\n",
        "medPond = ((nota1 * 3) + (nota2 * 4) + (nota3 * 3))/3\n",
        "\n",
        "# Mostrando ao usuário o produto:\n",
        "print('A média ponderada das notas é: ' + str(round(medPond, 2)))"
      ],
      "execution_count": 12,
      "outputs": [
        {
          "output_type": "stream",
          "text": [
            "Insira a nota do aluno (entre 0 e 10): -1\n",
            "Insira uma nota correta para o aluno (entre 0 e 10): 20\n",
            "Insira uma nota correta para o aluno (entre 0 e 10): 2\n",
            "Insira a nota do aluno (entre 0 e 10): 5\n",
            "[2, 5]\n",
            "Insira a nota do aluno (entre 0 e 10): 9\n",
            "[2, 5, 9]\n",
            "A média ponderada das notas é: 17.67\n"
          ],
          "name": "stdout"
        }
      ]
    }
  ]
}