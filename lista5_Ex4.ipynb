{
  "nbformat": 4,
  "nbformat_minor": 0,
  "metadata": {
    "colab": {
      "name": "lista5_Ex4.ipynb",
      "provenance": [],
      "collapsed_sections": [],
      "authorship_tag": "ABX9TyOyL4agSC+76DqvpFMoYcuE",
      "include_colab_link": true
    },
    "kernelspec": {
      "name": "python3",
      "display_name": "Python 3"
    }
  },
  "cells": [
    {
      "cell_type": "markdown",
      "metadata": {
        "id": "view-in-github",
        "colab_type": "text"
      },
      "source": [
        "<a href=\"https://colab.research.google.com/github/CronerG/ADS_ProbEstatistica/blob/main/lista5_Ex4.ipynb\" target=\"_parent\"><img src=\"https://colab.research.google.com/assets/colab-badge.svg\" alt=\"Open In Colab\"/></a>"
      ]
    },
    {
      "cell_type": "code",
      "metadata": {
        "colab": {
          "base_uri": "https://localhost:8080/"
        },
        "id": "u-ZcKSQf8_BH",
        "outputId": "0adc8753-80f1-4cb0-9adb-5ff5d9b0e0ca"
      },
      "source": [
        "# Disciplina: Probabilidade e Estatística\n",
        "# Aluno: Guilherme Alexandre Silva Abreu\n",
        "# Lista 5\n",
        "\n",
        "# Exercício 4\n",
        "\n",
        "# Função round() utilizada para formatar a resposta onde nescessário.\n",
        "\n",
        "# Importando a biblioteca que contém as funções de média, mediana e\n",
        "# desvio padrão:\n",
        "import statistics\n",
        "\n",
        "# Criando uma lista com a produção de cada ano:\n",
        "prodCafeDelta = [12, 15, 18, 22, 17, 14, 18, 23, 29, 12]\n",
        "print(prodCafeDelta) # Mantendo os dados na tela.\n",
        "\n",
        "# A)\n",
        "# Calculo e print da média aritmética:\n",
        "print(str(statistics.mean(prodCafeDelta)) + ' Ton')\n",
        "\n",
        "# B)\n",
        "# Calculo e print da mediana:\n",
        "print(str(statistics.median(prodCafeDelta)) + ' Ton')\n",
        "\n",
        "# C) \n",
        "# Calculo e print do desvio padrão:\n",
        "print(str((round(statistics.stdev(prodCafeDelta), 2))) + ' Ton')"
      ],
      "execution_count": 7,
      "outputs": [
        {
          "output_type": "stream",
          "text": [
            "[12, 15, 18, 22, 17, 14, 18, 23, 29, 12]\n",
            "18 Ton\n",
            "17.5 Ton\n",
            "5.37 Ton\n"
          ],
          "name": "stdout"
        }
      ]
    }
  ]
}