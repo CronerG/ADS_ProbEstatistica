{
  "nbformat": 4,
  "nbformat_minor": 0,
  "metadata": {
    "colab": {
      "name": "lista5_Ex1.ipynb",
      "provenance": [],
      "collapsed_sections": [],
      "authorship_tag": "ABX9TyNI2bYBP4Z2n7un5GxJGmnj",
      "include_colab_link": true
    },
    "kernelspec": {
      "name": "python3",
      "display_name": "Python 3"
    }
  },
  "cells": [
    {
      "cell_type": "markdown",
      "metadata": {
        "id": "view-in-github",
        "colab_type": "text"
      },
      "source": [
        "<a href=\"https://colab.research.google.com/github/CronerG/ADS_ProbEstatistica/blob/main/lista5_Ex1.ipynb\" target=\"_parent\"><img src=\"https://colab.research.google.com/assets/colab-badge.svg\" alt=\"Open In Colab\"/></a>"
      ]
    },
    {
      "cell_type": "code",
      "metadata": {
        "id": "ec6Hy-gTsLA9",
        "colab": {
          "base_uri": "https://localhost:8080/"
        },
        "outputId": "4ac58ca4-4e51-4223-9203-d241a6a5021a"
      },
      "source": [
        "# Disciplina: Probabilidade e Estatística\n",
        "# Aluno: Guilherme Alexandre Silva Abreu\n",
        "# Lista 5\n",
        "\n",
        "# Exercício 1\n",
        "\n",
        "# Importando a biblioteca Statistics para fazer uso de varias funções \n",
        "# encontradas nela, como mean, harmonic_mean, mode, variance e stdev.\n",
        "import statistics  \n",
        "\n",
        "# Importando a função gmean da biblioteca scipy.stats.mstats pois a \n",
        "# versão do Python utilizada pelo google colab não tem esta função\n",
        "# na biblioteca statistics.\n",
        "from scipy.stats.mstats import gmean\n",
        "\n",
        "listaG = [10, 13, 17, 9, 8, 11, 13, 7] # Lista com os dados\n",
        "print(listaG) #Print utilizado para manter os dados na tela como referencia.\n",
        "\n",
        "# A)\n",
        "print(statistics.mean(listaG))\n",
        "# (10 + 13 + 17 + 9 + 8 + 11 + 13 + 7) / 8 = 11\n",
        "# A função mean é chamada para calcular a média dos elementos da \n",
        "# lista, o resultado é então colocado na tela pelo comando print.\n",
        "\n",
        "# B)\n",
        "print(round(statistics.harmonic_mean(listaG), 2))\n",
        "# 8/((1/10) + (1/13) + (1/17) + (1/9) + (1/8) + (1/11) + (1/13) + (1/7)) = 10,22\n",
        "# harmonic_mean() é chamada para calcular a média harmonica com os dados\n",
        "# presentes na lista, para melhor apresentar o resultado, a função round\n",
        "# corta os numeros decimais para apenas os dois primeiros após a virgula\n",
        "# e ao fim disto é colocado na tela o produto final.\n",
        "\n",
        "# C)\n",
        "print(round(gmean(listaG), 2))\n",
        "# 8√(10 * 13 * 17 * 9 * 8 * 11 * 13 * 7) = 10,59... arredondado para 10,6\n",
        "# Como na letra B, uma função é chamada e seu resultado formatado por \n",
        "# round(), entretanto, gmean não é importado da mesma biblioteca que  as\n",
        "# outras funções, vindo de scipy.stats.mstats, o produto final é escrito\n",
        "# na tela.\n",
        "\n",
        "# D)\n",
        "print(statistics.mode(listaG))\n",
        "# [10, 13, 17, 9, 8, 11, 13, 7]\n",
        "#      ^^                ^^     moda = 13\n",
        "# Função chamada e seu resultado escrito na tela.\n",
        "\n",
        "# E)\n",
        "print(round(statistics.variance(listaG), 2))\n",
        "# ((10-11)^2+(13-11)^2+(17-11)^2+(9-11)^2+(8-11)^2+(11-11)^2+(13-11)^2+(7-11)^2)/7\n",
        "# Após a função variance terminar seu processo, o resultado é formatado e \n",
        "# então exposto na tela.\n",
        "\n",
        "# F)\n",
        "print(round(statistics.stdev(listaG), 2))\n",
        "# A função é chamada, completa seu calculo e é formatada para ser escrita\n",
        "# na tela."
      ],
      "execution_count": null,
      "outputs": [
        {
          "output_type": "stream",
          "text": [
            "[10, 13, 17, 9, 8, 11, 13, 7]\n",
            "11\n",
            "10.22\n",
            "10.6\n",
            "13\n",
            "10.57\n",
            "3.25\n"
          ],
          "name": "stdout"
        }
      ]
    }
  ]
}