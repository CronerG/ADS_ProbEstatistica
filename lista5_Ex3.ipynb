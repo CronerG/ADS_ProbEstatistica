{
  "nbformat": 4,
  "nbformat_minor": 0,
  "metadata": {
    "colab": {
      "name": "lista5_Ex3.ipynb",
      "provenance": [],
      "collapsed_sections": [],
      "authorship_tag": "ABX9TyP83kRyoCo7s24yJDUeFhZS",
      "include_colab_link": true
    },
    "kernelspec": {
      "name": "python3",
      "display_name": "Python 3"
    }
  },
  "cells": [
    {
      "cell_type": "markdown",
      "metadata": {
        "id": "view-in-github",
        "colab_type": "text"
      },
      "source": [
        "<a href=\"https://colab.research.google.com/github/CronerG/ADS_ProbEstatistica/blob/main/lista5_Ex3.ipynb\" target=\"_parent\"><img src=\"https://colab.research.google.com/assets/colab-badge.svg\" alt=\"Open In Colab\"/></a>"
      ]
    },
    {
      "cell_type": "code",
      "metadata": {
        "colab": {
          "base_uri": "https://localhost:8080/"
        },
        "id": "xSZ-dqrjzyqG",
        "outputId": "26e21ca4-8712-4e2d-d5c8-0b7ad3e10289"
      },
      "source": [
        "# Disciplina: Probabilidade e Estatística\n",
        "# Aluno: Guilherme Alexandre Silva Abreu\n",
        "# Lista 5\n",
        "\n",
        "# Exercício 3\n",
        "\n",
        "# Formatação por meio da função round() utilizada onde nescessário.\n",
        "\n",
        "# Importando as funções nescessárias:\n",
        "import statistics\n",
        "\n",
        "# Assinalando os dados a uma lista:\n",
        "prodLeite = [4.0, 4.5, 5.0, 5.0, 5.0, 5.5, 6.0, 6.0, 6.5, 6.5, 6.5, \n",
        "             6.5, 7.0, 7.0, 7.0, 7.0, 7.0, 7.0, 7.5, 8.5, 9.0, 9.0,\n",
        "             9.0, 9.5, 10.0, 10.0, 10.5, 10.5, 11.0, 12.0, 12.5, 13.0, 13.0]\n",
        "print(prodLeite) # Mantendo os dados na tela como refêrencia.\n",
        "\n",
        "# Calculando a média aritmética e guardando o resultado em uma variavel:\n",
        "mediaA = statistics.mean(prodLeite)\n",
        "print(mediaA) # Mantendo os dados na tela como refêrencia.\n",
        "\n",
        "# Calculando o desvio padrão e guardando o produto em uma variavel:\n",
        "desvPadrao = round(statistics.stdev(prodLeite), 2)\n",
        "print(desvPadrao) # Mantendo os dados na tela como refêrencia.\n",
        "\n",
        "# Calculo do coeficiente de variação:\n",
        "coefVaria = (desvPadrao/mediaA) * 100\n",
        "# Resultado final:\n",
        "print(str(coefVaria) + '%')\n"
      ],
      "execution_count": 11,
      "outputs": [
        {
          "output_type": "stream",
          "text": [
            "[4.0, 4.5, 5.0, 5.0, 5.0, 5.5, 6.0, 6.0, 6.5, 6.5, 6.5, 6.5, 7.0, 7.0, 7.0, 7.0, 7.0, 7.0, 7.5, 8.5, 9.0, 9.0, 9.0, 9.5, 10.0, 10.0, 10.5, 10.5, 11.0, 12.0, 12.5, 13.0, 13.0]\n",
            "8.0\n",
            "2.54\n",
            "31.75%\n"
          ],
          "name": "stdout"
        }
      ]
    }
  ]
}