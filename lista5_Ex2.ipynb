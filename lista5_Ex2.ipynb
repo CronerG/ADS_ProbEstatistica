{
  "nbformat": 4,
  "nbformat_minor": 0,
  "metadata": {
    "colab": {
      "name": "lista5_Ex2.ipynb",
      "provenance": [],
      "collapsed_sections": [],
      "authorship_tag": "ABX9TyMBjAoJHGvNFkW7FHSqU8fc",
      "include_colab_link": true
    },
    "kernelspec": {
      "name": "python3",
      "display_name": "Python 3"
    }
  },
  "cells": [
    {
      "cell_type": "markdown",
      "metadata": {
        "id": "view-in-github",
        "colab_type": "text"
      },
      "source": [
        "<a href=\"https://colab.research.google.com/github/CronerG/ADS_ProbEstatistica/blob/main/lista5_Ex2.ipynb\" target=\"_parent\"><img src=\"https://colab.research.google.com/assets/colab-badge.svg\" alt=\"Open In Colab\"/></a>"
      ]
    },
    {
      "cell_type": "code",
      "metadata": {
        "colab": {
          "base_uri": "https://localhost:8080/"
        },
        "id": "fOkgVLgFqMcy",
        "outputId": "bdaca624-b5bf-4c44-9d74-5b04626fefe7"
      },
      "source": [
        "# Disciplina: Probabilidade e Estatística\n",
        "# Aluno: Guilherme Alexandre Silva Abreu\n",
        "# Lista 5\n",
        "\n",
        "# Exercício 2\n",
        "\n",
        "# Função round() utilizada para formatação onde nescessário.\n",
        "\n",
        "# Importando a biblioteca necessária para os exercícios e a função que falta\n",
        "# nela.\n",
        "import statistics\n",
        "from scipy.stats.mstats import gmean\n",
        "\n",
        "# Inserindo os dados disponibilizados em uma lista e os mantendo na tela.\n",
        "listaAn = [67, 75, 63, 72, 77, 78, 81, 77, 80]\n",
        "print(listaAn)\n",
        "\n",
        "# A)\n",
        "# Média aritmética simples:\n",
        "print(round(statistics.mean(listaAn), 2))\n",
        "\n",
        "# Média harmônica:\n",
        "print(round(statistics.harmonic_mean(listaAn), 2))\n",
        "\n",
        "# Média geométrica:\n",
        "print(round(gmean(listaAn), 2))\n",
        "\n",
        "# B)\n",
        "# Moda:\n",
        "print(statistics.mode(listaAn))\n",
        "\n",
        "# C)\n",
        "# Mediana:\n",
        "print(statistics.median(listaAn))\n",
        "# [67, 75, 63, 72, 77, 78, 81, 77, 80]\n",
        "#                  ^^\n",
        "\n",
        "# D)\n",
        "# Variância:\n",
        "print(round(statistics.variance(listaAn), 2))\n",
        "\n",
        "# E)\n",
        "# Desvio padrão:\n",
        "print(round(statistics.stdev(listaAn), 2))"
      ],
      "execution_count": 11,
      "outputs": [
        {
          "output_type": "stream",
          "text": [
            "[67, 75, 63, 72, 77, 78, 81, 77, 80]\n",
            "74.44\n",
            "73.98\n",
            "74.22\n",
            "77\n",
            "77\n",
            "36.53\n",
            "6.04\n"
          ],
          "name": "stdout"
        }
      ]
    }
  ]
}